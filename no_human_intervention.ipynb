{
 "cells": [
  {
   "attachments": {},
   "cell_type": "markdown",
   "metadata": {},
   "source": [
    "# Recoloring with Dominant Colors with No Human Intervention\n",
    "reference\n",
    "https://jrtechs.net/data-science/creating-pixel-art-with-open-cv"
   ]
  },
  {
   "cell_type": "code",
   "execution_count": 1,
   "metadata": {},
   "outputs": [],
   "source": [
    "import cv2\n",
    "import skimage\n",
    "from sklearn.cluster import KMeans\n",
    "import numpy as np"
   ]
  },
  {
   "cell_type": "code",
   "execution_count": 2,
   "metadata": {},
   "outputs": [],
   "source": [
    "image_path = input(\"image_path: \")\n",
    "result_path = input(\"result_path: \")\n",
    "k = int(input(\"number of dominant colors: \"))\n",
    "image = cv2.imread(image_path)"
   ]
  },
  {
   "cell_type": "code",
   "execution_count": 3,
   "metadata": {},
   "outputs": [],
   "source": [
    "def segmentImgClrRGB(img, k):\n",
    "    imgC = np.copy(img)\n",
    "\n",
    "    h = img.shape[0]\n",
    "    w = img.shape[1]\n",
    "    \n",
    "    imgC.shape = (img.shape[0] * img.shape[1], 3)\n",
    "    \n",
    "    kmeans = KMeans(n_clusters=k, random_state=0, n_init=10).fit(imgC).labels_\n",
    "    kmeans.shape = (h, w)\n",
    "    \n",
    "    return kmeans"
   ]
  },
  {
   "cell_type": "code",
   "execution_count": 4,
   "metadata": {},
   "outputs": [],
   "source": [
    "def colorClustering(idx, img, k):\n",
    "    clusterValues = []\n",
    "    for _ in range(0, k):\n",
    "        clusterValues.append([])\n",
    "    \n",
    "    for r in range(0, idx.shape[0]):\n",
    "        for c in range(0, idx.shape[1]):\n",
    "            clusterValues[idx[r][c]].append(img[r][c])\n",
    "\n",
    "    imgC = np.copy(img)\n",
    "\n",
    "    clusterAverages = []\n",
    "    for i in range(0, k):\n",
    "        clusterAverages.append(np.average(clusterValues[i], axis=0))\n",
    "    \n",
    "    for r in range(0, idx.shape[0]):\n",
    "        for c in range(0, idx.shape[1]):\n",
    "            imgC[r][c] = clusterAverages[idx[r][c]]\n",
    "            \n",
    "    return imgC"
   ]
  },
  {
   "cell_type": "code",
   "execution_count": 5,
   "metadata": {},
   "outputs": [],
   "source": [
    "def kMeansImage(image, k):\n",
    "    idx = segmentImgClrRGB(image, k)\n",
    "    return colorClustering(idx, image, k)"
   ]
  },
  {
   "cell_type": "code",
   "execution_count": 6,
   "metadata": {},
   "outputs": [
    {
     "name": "stdout",
     "output_type": "stream",
     "text": [
      "<class 'numpy.ndarray'> (576, 1024, 3)\n"
     ]
    }
   ],
   "source": [
    "result = kMeansImage(image, k)\n",
    "r, c = result.shape[:2]\n",
    "print(type(result), result.shape)"
   ]
  },
  {
   "cell_type": "code",
   "execution_count": 7,
   "metadata": {},
   "outputs": [
    {
     "data": {
      "text/plain": [
       "True"
      ]
     },
     "execution_count": 7,
     "metadata": {},
     "output_type": "execute_result"
    }
   ],
   "source": [
    "screen = np.zeros((r,c,3), np.uint8)\n",
    "screen[:,:] = result[:,:]\n",
    "cv2.imwrite(result_path, screen)"
   ]
  }
 ],
 "metadata": {
  "kernelspec": {
   "display_name": "Python 3",
   "language": "python",
   "name": "python3"
  },
  "language_info": {
   "codemirror_mode": {
    "name": "ipython",
    "version": 3
   },
   "file_extension": ".py",
   "mimetype": "text/x-python",
   "name": "python",
   "nbconvert_exporter": "python",
   "pygments_lexer": "ipython3",
   "version": "3.10.6"
  },
  "orig_nbformat": 4
 },
 "nbformat": 4,
 "nbformat_minor": 2
}
