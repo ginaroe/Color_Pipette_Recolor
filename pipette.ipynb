{
 "cells": [
  {
   "attachments": {},
   "cell_type": "markdown",
   "metadata": {},
   "source": [
    "# Color Pipette\n",
    "reference: https://blog.electroica.com/eye-dropper-color-picker-tool-in-python-using-opencv/"
   ]
  },
  {
   "cell_type": "code",
   "execution_count": 1,
   "metadata": {},
   "outputs": [],
   "source": [
    "import cv2\n",
    "import numpy as np"
   ]
  },
  {
   "cell_type": "code",
   "execution_count": 2,
   "metadata": {},
   "outputs": [],
   "source": [
    "image_path = \"tulips/tulips00.jpg\""
   ]
  },
  {
   "cell_type": "code",
   "execution_count": 3,
   "metadata": {},
   "outputs": [],
   "source": [
    "color_explore = np.zeros((100,100,3), np.uint8)\n",
    "color_selected = np.zeros((100,100,3), np.uint8)\n",
    "image = cv2.imread(image_path)"
   ]
  },
  {
   "cell_type": "code",
   "execution_count": 4,
   "metadata": {},
   "outputs": [],
   "source": [
    "def show_color(event, x, y, flags, param):\n",
    "    \"\"\"\n",
    "    mouse callback function\n",
    "    \"\"\"\n",
    "    B = image[y,x][0]\n",
    "    G = image[y,x][1]\n",
    "    R = image[y,x][2]\n",
    "    color_explore[:] = (B, G, R)\n",
    "\n",
    "    if event == cv2.EVENT_LBUTTONDOWN:\n",
    "        color_selected[:] = (B, G, R)"
   ]
  },
  {
   "cell_type": "code",
   "execution_count": 5,
   "metadata": {},
   "outputs": [],
   "source": [
    "cv2.namedWindow(\"color_explore\")\n",
    "cv2.namedWindow(\"color_selected\")\n",
    "cv2.namedWindow(\"image\")\n",
    "\n",
    "cv2.setMouseCallback('image', show_color)\n",
    "\n",
    "while True:\n",
    "    \n",
    "    cv2.imshow('image', image)\n",
    "    cv2.imshow('color_explore', color_explore)\n",
    "    cv2.imshow('color_selected', color_selected)\n",
    "    if cv2.waitKey(10) == 27: break\n",
    "\n",
    "cv2.destroyAllWindows()"
   ]
  }
 ],
 "metadata": {
  "kernelspec": {
   "display_name": "Python 3",
   "language": "python",
   "name": "python3"
  },
  "language_info": {
   "codemirror_mode": {
    "name": "ipython",
    "version": 3
   },
   "file_extension": ".py",
   "mimetype": "text/x-python",
   "name": "python",
   "nbconvert_exporter": "python",
   "pygments_lexer": "ipython3",
   "version": "3.10.6"
  },
  "orig_nbformat": 4
 },
 "nbformat": 4,
 "nbformat_minor": 2
}
